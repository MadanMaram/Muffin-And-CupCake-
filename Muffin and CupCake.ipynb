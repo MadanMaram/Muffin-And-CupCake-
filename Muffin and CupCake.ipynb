{
 "cells": [
  {
   "cell_type": "code",
   "execution_count": 41,
   "metadata": {},
   "outputs": [],
   "source": [
    "import numpy as np\n",
    "import pandas as pd\n",
    "import matplotlib.pyplot as plt\n",
    "import seaborn as sns"
   ]
  },
  {
   "cell_type": "code",
   "execution_count": 42,
   "metadata": {},
   "outputs": [],
   "source": [
    "df = pd.read_csv('recipes_muffins_cupcakes.csv')"
   ]
  },
  {
   "cell_type": "code",
   "execution_count": 43,
   "metadata": {},
   "outputs": [
    {
     "data": {
      "text/html": [
       "<div>\n",
       "<style scoped>\n",
       "    .dataframe tbody tr th:only-of-type {\n",
       "        vertical-align: middle;\n",
       "    }\n",
       "\n",
       "    .dataframe tbody tr th {\n",
       "        vertical-align: top;\n",
       "    }\n",
       "\n",
       "    .dataframe thead th {\n",
       "        text-align: right;\n",
       "    }\n",
       "</style>\n",
       "<table border=\"1\" class=\"dataframe\">\n",
       "  <thead>\n",
       "    <tr style=\"text-align: right;\">\n",
       "      <th></th>\n",
       "      <th>Type</th>\n",
       "      <th>Flour</th>\n",
       "      <th>Milk</th>\n",
       "      <th>Sugar</th>\n",
       "      <th>Butter</th>\n",
       "      <th>Egg</th>\n",
       "      <th>Baking Powder</th>\n",
       "      <th>Vanilla</th>\n",
       "      <th>Salt</th>\n",
       "    </tr>\n",
       "  </thead>\n",
       "  <tbody>\n",
       "    <tr>\n",
       "      <td>0</td>\n",
       "      <td>Muffin</td>\n",
       "      <td>55</td>\n",
       "      <td>28</td>\n",
       "      <td>3</td>\n",
       "      <td>7</td>\n",
       "      <td>5</td>\n",
       "      <td>2</td>\n",
       "      <td>0</td>\n",
       "      <td>0</td>\n",
       "    </tr>\n",
       "    <tr>\n",
       "      <td>1</td>\n",
       "      <td>Muffin</td>\n",
       "      <td>47</td>\n",
       "      <td>24</td>\n",
       "      <td>12</td>\n",
       "      <td>6</td>\n",
       "      <td>9</td>\n",
       "      <td>1</td>\n",
       "      <td>0</td>\n",
       "      <td>0</td>\n",
       "    </tr>\n",
       "    <tr>\n",
       "      <td>2</td>\n",
       "      <td>Muffin</td>\n",
       "      <td>47</td>\n",
       "      <td>23</td>\n",
       "      <td>18</td>\n",
       "      <td>6</td>\n",
       "      <td>4</td>\n",
       "      <td>1</td>\n",
       "      <td>0</td>\n",
       "      <td>0</td>\n",
       "    </tr>\n",
       "    <tr>\n",
       "      <td>3</td>\n",
       "      <td>Muffin</td>\n",
       "      <td>45</td>\n",
       "      <td>11</td>\n",
       "      <td>17</td>\n",
       "      <td>17</td>\n",
       "      <td>8</td>\n",
       "      <td>1</td>\n",
       "      <td>0</td>\n",
       "      <td>0</td>\n",
       "    </tr>\n",
       "    <tr>\n",
       "      <td>4</td>\n",
       "      <td>Muffin</td>\n",
       "      <td>50</td>\n",
       "      <td>25</td>\n",
       "      <td>12</td>\n",
       "      <td>6</td>\n",
       "      <td>5</td>\n",
       "      <td>2</td>\n",
       "      <td>1</td>\n",
       "      <td>0</td>\n",
       "    </tr>\n",
       "  </tbody>\n",
       "</table>\n",
       "</div>"
      ],
      "text/plain": [
       "     Type  Flour  Milk  Sugar  Butter  Egg  Baking Powder  Vanilla  Salt\n",
       "0  Muffin     55    28      3       7    5              2        0     0\n",
       "1  Muffin     47    24     12       6    9              1        0     0\n",
       "2  Muffin     47    23     18       6    4              1        0     0\n",
       "3  Muffin     45    11     17      17    8              1        0     0\n",
       "4  Muffin     50    25     12       6    5              2        1     0"
      ]
     },
     "execution_count": 43,
     "metadata": {},
     "output_type": "execute_result"
    }
   ],
   "source": [
    "df.head()"
   ]
  },
  {
   "cell_type": "code",
   "execution_count": 44,
   "metadata": {},
   "outputs": [
    {
     "name": "stdout",
     "output_type": "stream",
     "text": [
      "<class 'pandas.core.frame.DataFrame'>\n",
      "RangeIndex: 20 entries, 0 to 19\n",
      "Data columns (total 9 columns):\n",
      "Type             20 non-null object\n",
      "Flour            20 non-null int64\n",
      "Milk             20 non-null int64\n",
      "Sugar            20 non-null int64\n",
      "Butter           20 non-null int64\n",
      "Egg              20 non-null int64\n",
      "Baking Powder    20 non-null int64\n",
      "Vanilla          20 non-null int64\n",
      "Salt             20 non-null int64\n",
      "dtypes: int64(8), object(1)\n",
      "memory usage: 1.5+ KB\n"
     ]
    }
   ],
   "source": [
    "df.info()"
   ]
  },
  {
   "cell_type": "code",
   "execution_count": 45,
   "metadata": {},
   "outputs": [
    {
     "data": {
      "text/html": [
       "<div>\n",
       "<style scoped>\n",
       "    .dataframe tbody tr th:only-of-type {\n",
       "        vertical-align: middle;\n",
       "    }\n",
       "\n",
       "    .dataframe tbody tr th {\n",
       "        vertical-align: top;\n",
       "    }\n",
       "\n",
       "    .dataframe thead th {\n",
       "        text-align: right;\n",
       "    }\n",
       "</style>\n",
       "<table border=\"1\" class=\"dataframe\">\n",
       "  <thead>\n",
       "    <tr style=\"text-align: right;\">\n",
       "      <th></th>\n",
       "      <th>Flour</th>\n",
       "      <th>Milk</th>\n",
       "      <th>Sugar</th>\n",
       "      <th>Butter</th>\n",
       "      <th>Egg</th>\n",
       "      <th>Baking Powder</th>\n",
       "      <th>Vanilla</th>\n",
       "      <th>Salt</th>\n",
       "    </tr>\n",
       "  </thead>\n",
       "  <tbody>\n",
       "    <tr>\n",
       "      <td>Flour</td>\n",
       "      <td>1.000000</td>\n",
       "      <td>0.653965</td>\n",
       "      <td>-0.823497</td>\n",
       "      <td>-0.663835</td>\n",
       "      <td>-0.612530</td>\n",
       "      <td>0.333677</td>\n",
       "      <td>-0.584768</td>\n",
       "      <td>NaN</td>\n",
       "    </tr>\n",
       "    <tr>\n",
       "      <td>Milk</td>\n",
       "      <td>0.653965</td>\n",
       "      <td>1.000000</td>\n",
       "      <td>-0.756611</td>\n",
       "      <td>-0.773610</td>\n",
       "      <td>-0.677137</td>\n",
       "      <td>0.387600</td>\n",
       "      <td>-0.399741</td>\n",
       "      <td>NaN</td>\n",
       "    </tr>\n",
       "    <tr>\n",
       "      <td>Sugar</td>\n",
       "      <td>-0.823497</td>\n",
       "      <td>-0.756611</td>\n",
       "      <td>1.000000</td>\n",
       "      <td>0.449314</td>\n",
       "      <td>0.443047</td>\n",
       "      <td>-0.482146</td>\n",
       "      <td>0.394677</td>\n",
       "      <td>NaN</td>\n",
       "    </tr>\n",
       "    <tr>\n",
       "      <td>Butter</td>\n",
       "      <td>-0.663835</td>\n",
       "      <td>-0.773610</td>\n",
       "      <td>0.449314</td>\n",
       "      <td>1.000000</td>\n",
       "      <td>0.511927</td>\n",
       "      <td>-0.194494</td>\n",
       "      <td>0.448743</td>\n",
       "      <td>NaN</td>\n",
       "    </tr>\n",
       "    <tr>\n",
       "      <td>Egg</td>\n",
       "      <td>-0.612530</td>\n",
       "      <td>-0.677137</td>\n",
       "      <td>0.443047</td>\n",
       "      <td>0.511927</td>\n",
       "      <td>1.000000</td>\n",
       "      <td>-0.290259</td>\n",
       "      <td>0.475739</td>\n",
       "      <td>NaN</td>\n",
       "    </tr>\n",
       "    <tr>\n",
       "      <td>Baking Powder</td>\n",
       "      <td>0.333677</td>\n",
       "      <td>0.387600</td>\n",
       "      <td>-0.482146</td>\n",
       "      <td>-0.194494</td>\n",
       "      <td>-0.290259</td>\n",
       "      <td>1.000000</td>\n",
       "      <td>-0.140028</td>\n",
       "      <td>NaN</td>\n",
       "    </tr>\n",
       "    <tr>\n",
       "      <td>Vanilla</td>\n",
       "      <td>-0.584768</td>\n",
       "      <td>-0.399741</td>\n",
       "      <td>0.394677</td>\n",
       "      <td>0.448743</td>\n",
       "      <td>0.475739</td>\n",
       "      <td>-0.140028</td>\n",
       "      <td>1.000000</td>\n",
       "      <td>NaN</td>\n",
       "    </tr>\n",
       "    <tr>\n",
       "      <td>Salt</td>\n",
       "      <td>NaN</td>\n",
       "      <td>NaN</td>\n",
       "      <td>NaN</td>\n",
       "      <td>NaN</td>\n",
       "      <td>NaN</td>\n",
       "      <td>NaN</td>\n",
       "      <td>NaN</td>\n",
       "      <td>NaN</td>\n",
       "    </tr>\n",
       "  </tbody>\n",
       "</table>\n",
       "</div>"
      ],
      "text/plain": [
       "                  Flour      Milk     Sugar    Butter       Egg  \\\n",
       "Flour          1.000000  0.653965 -0.823497 -0.663835 -0.612530   \n",
       "Milk           0.653965  1.000000 -0.756611 -0.773610 -0.677137   \n",
       "Sugar         -0.823497 -0.756611  1.000000  0.449314  0.443047   \n",
       "Butter        -0.663835 -0.773610  0.449314  1.000000  0.511927   \n",
       "Egg           -0.612530 -0.677137  0.443047  0.511927  1.000000   \n",
       "Baking Powder  0.333677  0.387600 -0.482146 -0.194494 -0.290259   \n",
       "Vanilla       -0.584768 -0.399741  0.394677  0.448743  0.475739   \n",
       "Salt                NaN       NaN       NaN       NaN       NaN   \n",
       "\n",
       "               Baking Powder   Vanilla  Salt  \n",
       "Flour               0.333677 -0.584768   NaN  \n",
       "Milk                0.387600 -0.399741   NaN  \n",
       "Sugar              -0.482146  0.394677   NaN  \n",
       "Butter             -0.194494  0.448743   NaN  \n",
       "Egg                -0.290259  0.475739   NaN  \n",
       "Baking Powder       1.000000 -0.140028   NaN  \n",
       "Vanilla            -0.140028  1.000000   NaN  \n",
       "Salt                     NaN       NaN   NaN  "
      ]
     },
     "execution_count": 45,
     "metadata": {},
     "output_type": "execute_result"
    }
   ],
   "source": [
    "df.corr()"
   ]
  },
  {
   "cell_type": "code",
   "execution_count": 54,
   "metadata": {},
   "outputs": [
    {
     "data": {
      "image/png": "[encoded data removed]",
      "text/plain": [
       "<Figure size 439x360 with 1 Axes>"
      ]
     },
     "metadata": {
      "needs_background": "light"
     },
     "output_type": "display_data"
    }
   ],
   "source": [
    "\n",
    "# Plot two ingredients\n",
    "sns.lmplot('Flour', 'Sugar', data=df, hue='Type',\n",
    "           palette='Set1', fit_reg=False, scatter_kws={\"s\": 70});"
   ]
  },
  {
   "cell_type": "markdown",
   "metadata": {},
   "source": [
    "## fit the model\n"
   ]
  },
  {
   "cell_type": "code",
   "execution_count": 51,
   "metadata": {
    "scrolled": true
   },
   "outputs": [
    {
     "name": "stderr",
     "output_type": "stream",
     "text": [
      "/home/madanmaram/anaconda3/lib/python3.7/site-packages/ipykernel_launcher.py:3: FutureWarning: Method .as_matrix will be removed in a future version. Use .values instead.\n",
      "  This is separate from the ipykernel package so we can avoid doing imports until\n"
     ]
    },
    {
     "data": {
      "text/plain": [
       "['Flour', 'Milk', 'Sugar', 'Butter', 'Egg', 'Baking Powder', 'Vanilla', 'Salt']"
      ]
     },
     "execution_count": 51,
     "metadata": {},
     "output_type": "execute_result"
    }
   ],
   "source": [
    "\n",
    "# Specify inputs for the model\n",
    "# ingredients = recipes[['Flour', 'Milk', 'Sugar', 'Butter', 'Egg', 'Baking Powder', 'Vanilla', 'Salt']].as_matrix()\n",
    "ingredients = df[['Flour','Sugar']].as_matrix()\n",
    "type_label = np.where(df['Type']=='Muffin', 0, 1)\n",
    "\n",
    "# Feature names\n",
    "recipe_features = df.columns.values[1:].tolist()\n",
    "recipe_features"
   ]
  },
  {
   "cell_type": "markdown",
   "metadata": {},
   "source": [
    "# model fitting"
   ]
  },
  {
   "cell_type": "code",
   "execution_count": 56,
   "metadata": {},
   "outputs": [
    {
     "data": {
      "application/javascript": [
       "\n",
       "        if (window._pyforest_update_imports_cell) { window._pyforest_update_imports_cell('from sklearn import svm'); }\n",
       "    "
      ],
      "text/plain": [
       "<IPython.core.display.Javascript object>"
      ]
     },
     "metadata": {},
     "output_type": "display_data"
    },
    {
     "data": {
      "text/plain": [
       "SVC(kernel='linear')"
      ]
     },
     "execution_count": 56,
     "metadata": {},
     "output_type": "execute_result"
    }
   ],
   "source": [
    "# Fit the SVM model\n",
    "model = svm.SVC(kernel='linear')\n",
    "model.fit(ingredients, type_label)"
   ]
  },
  {
   "cell_type": "markdown",
   "metadata": {},
   "source": [
    "# visulise results"
   ]
  },
  {
   "cell_type": "code",
   "execution_count": 58,
   "metadata": {},
   "outputs": [],
   "source": [
    "\n",
    "# Get the separating hyperplane\n",
    "w = model.coef_[0]\n",
    "a = -w[0] / w[1]\n",
    "xx = np.linspace(30, 60)\n",
    "yy = a * xx - (model.intercept_[0]) / w[1]\n",
    "\n",
    "# Plot the parallels to the separating hyperplane that pass through the support vectors\n",
    "b = model.support_vectors_[0]\n",
    "yy_down = a * xx + (b[1] - a * b[0])\n",
    "b = model.support_vectors_[-1]\n",
    "yy_up = a * xx + (b[1] - a * b[0])"
   ]
  },
  {
   "cell_type": "code",
   "execution_count": 59,
   "metadata": {},
   "outputs": [
    {
     "data": {
      "image/png": "[encoded data removed]",
      "text/plain": [
       "<Figure size 439x360 with 1 Axes>"
      ]
     },
     "metadata": {
      "needs_background": "light"
     },
     "output_type": "display_data"
    }
   ],
   "source": [
    "# Plot the hyperplane\n",
    "sns.lmplot('Flour', 'Sugar', data=df, hue='Type', palette='Set1', fit_reg=False, scatter_kws={\"s\": 70})\n",
    "plt.plot(xx, yy, linewidth=2, color='black');"
   ]
  },
  {
   "cell_type": "code",
   "execution_count": 61,
   "metadata": {},
   "outputs": [
    {
     "data": {
      "image/png": "[encoded data removed]",
      "text/plain": [
       "<Figure size 439x360 with 1 Axes>"
      ]
     },
     "metadata": {
      "needs_background": "light"
     },
     "output_type": "display_data"
    }
   ],
   "source": [
    "# Look at the margins and support vectors\n",
    "sns.lmplot('Flour', 'Sugar', data=df, hue='Type', palette='Set1', fit_reg=False, scatter_kws={\"s\": 70})\n",
    "plt.plot(xx, yy, linewidth=2, color='black')\n",
    "plt.plot(xx, yy_down, 'k--')\n",
    "plt.plot(xx, yy_up, 'k--')\n",
    "plt.scatter(model.support_vectors_[:, 0], model.support_vectors_[:, 1],\n",
    "            s=80, facecolors='none');"
   ]
  },
  {
   "cell_type": "code",
   "execution_count": 62,
   "metadata": {},
   "outputs": [],
   "source": [
    "# Create a function to guess when a recipe is a muffin or a cupcake\n",
    "def muffin_or_cupcake(flour, sugar):\n",
    "    if(model.predict([[flour, sugar]]))==0:\n",
    "        print('You\\'re looking at a muffin recipe!')\n",
    "    else:\n",
    "        print('You\\'re looking at a cupcake recipe!')"
   ]
  },
  {
   "cell_type": "code",
   "execution_count": 63,
   "metadata": {},
   "outputs": [
    {
     "name": "stdout",
     "output_type": "stream",
     "text": [
      "You're looking at a muffin recipe!\n"
     ]
    }
   ],
   "source": [
    "# Predict if 50 parts flour and 20 parts sugar\n",
    "muffin_or_cupcake(50, 20)"
   ]
  },
  {
   "cell_type": "code",
   "execution_count": 65,
   "metadata": {},
   "outputs": [
    {
     "data": {
      "image/png": "[encoded data removed]",
      "text/plain": [
       "<Figure size 439x360 with 1 Axes>"
      ]
     },
     "metadata": {
      "needs_background": "light"
     },
     "output_type": "display_data"
    }
   ],
   "source": [
    "\n",
    "# Plot the point to visually see where the point lies\n",
    "sns.lmplot('Flour', 'Sugar', data=df, hue='Type', palette='Set1', fit_reg=False, scatter_kws={\"s\": 70})\n",
    "plt.plot(xx, yy, linewidth=2, color='black')\n",
    "plt.plot(50, 20, 'yo', markersize='9');"
   ]
  },
  {
   "cell_type": "code",
   "execution_count": 66,
   "metadata": {},
   "outputs": [
    {
     "name": "stdout",
     "output_type": "stream",
     "text": [
      "You're looking at a cupcake recipe!\n"
     ]
    }
   ],
   "source": [
    "\n",
    "# Predict if 40 parts flour and 20 parts sugar\n",
    "muffin_or_cupcake(40,20)"
   ]
  },
  {
   "cell_type": "code",
   "execution_count": 67,
   "metadata": {},
   "outputs": [],
   "source": [
    "muffin_cupcake_dict = {'muffin_cupcake_model': model, 'muffin_cupcake_features': ['Flour','Sugar'], 'all_features': recipe_features}"
   ]
  },
  {
   "cell_type": "code",
   "execution_count": 68,
   "metadata": {},
   "outputs": [
    {
     "data": {
      "text/plain": [
       "{'muffin_cupcake_model': SVC(kernel='linear'),\n",
       " 'muffin_cupcake_features': ['Flour', 'Sugar'],\n",
       " 'all_features': ['Flour',\n",
       "  'Milk',\n",
       "  'Sugar',\n",
       "  'Butter',\n",
       "  'Egg',\n",
       "  'Baking Powder',\n",
       "  'Vanilla',\n",
       "  'Salt']}"
      ]
     },
     "execution_count": 68,
     "metadata": {},
     "output_type": "execute_result"
    }
   ],
   "source": [
    "muffin_cupcake_dict"
   ]
  },
  {
   "cell_type": "code",
   "execution_count": 69,
   "metadata": {},
   "outputs": [
    {
     "data": {
      "application/javascript": [
       "\n",
       "        if (window._pyforest_update_imports_cell) { window._pyforest_update_imports_cell('import pickle\\nfrom sklearn import svm'); }\n",
       "    "
      ],
      "text/plain": [
       "<IPython.core.display.Javascript object>"
      ]
     },
     "metadata": {},
     "output_type": "display_data"
    }
   ],
   "source": [
    "# Pickle\n",
    "pickle.dump(muffin_cupcake_dict, open(\"muffin_cupcake_dict.p\", \"wb\"))"
   ]
  },
  {
   "cell_type": "code",
   "execution_count": 70,
   "metadata": {},
   "outputs": [
    {
     "data": {
      "application/javascript": [
       "\n",
       "        if (window._pyforest_update_imports_cell) { window._pyforest_update_imports_cell('import pickle\\nfrom sklearn import svm'); }\n",
       "    "
      ],
      "text/plain": [
       "<IPython.core.display.Javascript object>"
      ]
     },
     "metadata": {},
     "output_type": "display_data"
    },
    {
     "data": {
      "text/plain": [
       "b'\\x80\\x03}q\\x00(X\\x14\\x00\\x00\\x00muffin_cupcake_modelq\\x01csklearn.svm._classes\\nSVC\\nq\\x02)\\x81q\\x03}q\\x04(X\\x17\\x00\\x00\\x00decision_function_shapeq\\x05X\\x03\\x00\\x00\\x00ovrq\\x06X\\n\\x00\\x00\\x00break_tiesq\\x07\\x89X\\x06\\x00\\x00\\x00kernelq\\x08X\\x06\\x00\\x00\\x00linearq\\tX\\x06\\x00\\x00\\x00degreeq\\nK\\x03X\\x05\\x00\\x00\\x00gammaq\\x0bX\\x05\\x00\\x00\\x00scaleq\\x0cX\\x05\\x00\\x00\\x00coef0q\\rG\\x00\\x00\\x00\\x00\\x00\\x00\\x00\\x00X\\x03\\x00\\x00\\x00tolq\\x0eG?PbM\\xd2\\xf1\\xa9\\xfcX\\x01\\x00\\x00\\x00Cq\\x0fG?\\xf0\\x00\\x00\\x00\\x00\\x00\\x00X\\x02\\x00\\x00\\x00nuq\\x10G\\x00\\x00\\x00\\x00\\x00\\x00\\x00\\x00X\\x07\\x00\\x00\\x00epsilonq\\x11G\\x00\\x00\\x00\\x00\\x00\\x00\\x00\\x00X\\t\\x00\\x00\\x00shrinkingq\\x12\\x88X\\x0b\\x00\\x00\\x00probabilityq\\x13\\x89X\\n\\x00\\x00\\x00cache_sizeq\\x14K\\xc8X\\x0c\\x00\\x00\\x00class_weightq\\x15NX\\x07\\x00\\x00\\x00verboseq\\x16\\x89X\\x08\\x00\\x00\\x00max_iterq\\x17J\\xff\\xff\\xff\\xffX\\x0c\\x00\\x00\\x00random_stateq\\x18NX\\x07\\x00\\x00\\x00_sparseq\\x19\\x89X\\x0e\\x00\\x00\\x00n_features_in_q\\x1aK\\x02X\\r\\x00\\x00\\x00class_weight_q\\x1bcnumpy.core.multiarray\\n_reconstruct\\nq\\x1ccnumpy\\nndarray\\nq\\x1dK\\x00\\x85q\\x1eC\\x01bq\\x1f\\x87q Rq!(K\\x01K\\x02\\x85q\"cnumpy\\ndtype\\nq#X\\x02\\x00\\x00\\x00f8q$K\\x00K\\x01\\x87q%Rq&(K\\x03X\\x01\\x00\\x00\\x00<q\\'NNNJ\\xff\\xff\\xff\\xffJ\\xff\\xff\\xff\\xffK\\x00tq(b\\x89C\\x10\\x00\\x00\\x00\\x00\\x00\\x00\\xf0?\\x00\\x00\\x00\\x00\\x00\\x00\\xf0?q)tq*bX\\x08\\x00\\x00\\x00classes_q+h\\x1ch\\x1dK\\x00\\x85q,h\\x1f\\x87q-Rq.(K\\x01K\\x02\\x85q/h#X\\x02\\x00\\x00\\x00i8q0K\\x00K\\x01\\x87q1Rq2(K\\x03h\\'NNNJ\\xff\\xff\\xff\\xffJ\\xff\\xff\\xff\\xffK\\x00tq3b\\x89C\\x10\\x00\\x00\\x00\\x00\\x00\\x00\\x00\\x00\\x01\\x00\\x00\\x00\\x00\\x00\\x00\\x00q4tq5bX\\x06\\x00\\x00\\x00_gammaq6cnumpy.core.multiarray\\nscalar\\nq7h&C\\x08\\x01\\x1d\\x01t\\x04\\xd0a?q8\\x86q9Rq:X\\x08\\x00\\x00\\x00support_q;h\\x1ch\\x1dK\\x00\\x85q<h\\x1f\\x87q=Rq>(K\\x01K\\x03\\x85q?h#X\\x02\\x00\\x00\\x00i4q@K\\x00K\\x01\\x87qARqB(K\\x03h\\'NNNJ\\xff\\xff\\xff\\xffJ\\xff\\xff\\xff\\xffK\\x00tqCb\\x89C\\x0c\\x03\\x00\\x00\\x00\\x0b\\x00\\x00\\x00\\x0f\\x00\\x00\\x00qDtqEbX\\x10\\x00\\x00\\x00support_vectors_qFh\\x1ch\\x1dK\\x00\\x85qGh\\x1f\\x87qHRqI(K\\x01K\\x03K\\x02\\x86qJh&\\x89C0\\x00\\x00\\x00\\x00\\x00\\x80F@\\x00\\x00\\x00\\x00\\x00\\x001@\\x00\\x00\\x00\\x00\\x00\\x00E@\\x00\\x00\\x00\\x00\\x00\\x000@\\x00\\x00\\x00\\x00\\x00\\x00E@\\x00\\x00\\x00\\x00\\x00\\x009@qKtqLbX\\n\\x00\\x00\\x00_n_supportqMh\\x1ch\\x1dK\\x00\\x85qNh\\x1f\\x87qORqP(K\\x01K\\x02\\x85qQhB\\x89C\\x08\\x01\\x00\\x00\\x00\\x02\\x00\\x00\\x00qRtqSbX\\n\\x00\\x00\\x00dual_coef_qTh\\x1ch\\x1dK\\x00\\x85qUh\\x1f\\x87qVRqW(K\\x01K\\x01K\\x03\\x86qXh&\\x89C\\x18\\x19;\\x16\\x81\\xfdo\\xcc\\xbf5\\xdf\\xda9\\x1aG\\xc9? \\xdf\\xda9\\x1aG\\x99?qYtqZbX\\n\\x00\\x00\\x00intercept_q[h\\x1ch\\x1dK\\x00\\x85q\\\\h\\x1f\\x87q]Rq^(K\\x01K\\x01\\x85q_h&\\x89C\\x08\\xe9\\xbcm\\xd12\\xfe<@q`tqabX\\x06\\x00\\x00\\x00_probAqbh\\x1ch\\x1dK\\x00\\x85qch\\x1f\\x87qdRqe(K\\x01K\\x00\\x85qfh&\\x89C\\x00qgtqhbX\\x06\\x00\\x00\\x00_probBqih\\x1ch\\x1dK\\x00\\x85qjh\\x1f\\x87qkRql(K\\x01K\\x00\\x85qmh&\\x89hgtqnbX\\x0b\\x00\\x00\\x00fit_status_qoK\\x00X\\n\\x00\\x00\\x00shape_fit_qpK\\x14K\\x02\\x86qqX\\x0b\\x00\\x00\\x00_intercept_qrh\\x1ch\\x1dK\\x00\\x85qsh\\x1f\\x87qtRqu(K\\x01K\\x01\\x85qvh&\\x89C\\x08\\xe9\\xbcm\\xd12\\xfe<\\xc0qwtqxbX\\x0b\\x00\\x00\\x00_dual_coef_qyh\\x1ch\\x1dK\\x00\\x85qzh\\x1f\\x87q{Rq|(K\\x01K\\x01K\\x03\\x86q}h&\\x89C\\x18\\x19;\\x16\\x81\\xfdo\\xcc?5\\xdf\\xda9\\x1aG\\xc9\\xbf \\xdf\\xda9\\x1aG\\x99\\xbfq~tq\\x7fbX\\x10\\x00\\x00\\x00_sklearn_versionq\\x80X\\x06\\x00\\x00\\x000.23.1q\\x81ubX\\x17\\x00\\x00\\x00muffin_cupcake_featuresq\\x82]q\\x83(X\\x05\\x00\\x00\\x00Flourq\\x84X\\x05\\x00\\x00\\x00Sugarq\\x85eX\\x0c\\x00\\x00\\x00all_featuresq\\x86]q\\x87(X\\x05\\x00\\x00\\x00Flourq\\x88X\\x04\\x00\\x00\\x00Milkq\\x89X\\x05\\x00\\x00\\x00Sugarq\\x8aX\\x06\\x00\\x00\\x00Butterq\\x8bX\\x03\\x00\\x00\\x00Eggq\\x8cX\\r\\x00\\x00\\x00Baking Powderq\\x8dX\\x07\\x00\\x00\\x00Vanillaq\\x8eX\\x04\\x00\\x00\\x00Saltq\\x8feu.'"
      ]
     },
     "execution_count": 70,
     "metadata": {},
     "output_type": "execute_result"
    }
   ],
   "source": [
    "# S = String\n",
    "pickle.dumps(muffin_cupcake_dict)"
   ]
  },
  {
   "cell_type": "code",
   "execution_count": null,
   "metadata": {},
   "outputs": [],
   "source": []
  }
 ],
 "metadata": {
  "kernelspec": {
   "display_name": "Python 3",
   "language": "python",
   "name": "python3"
  },
  "language_info": {
   "codemirror_mode": {
    "name": "ipython",
    "version": 3
   },
   "file_extension": ".py",
   "mimetype": "text/x-python",
   "name": "python",
   "nbconvert_exporter": "python",
   "pygments_lexer": "ipython3",
   "version": "3.7.4"
  }
 },
 "nbformat": 4,
 "nbformat_minor": 2
}
